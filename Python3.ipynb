{
 "cells": [
  {
   "cell_type": "code",
   "execution_count": 1,
   "metadata": {
    "collapsed": true
   },
   "outputs": [],
   "source": [
    ">>> ukol1 = 'Král řekl Honzovi: \"Ta saň má 7 hlav! Zabij ji a dostaneš 1/2 království.\"'"
   ]
  },
  {
   "cell_type": "code",
   "execution_count": 2,
   "metadata": {
    "collapsed": true
   },
   "outputs": [],
   "source": [
    ">>> ukol_list = list(ukol1.lower())"
   ]
  },
  {
   "cell_type": "code",
   "execution_count": 3,
   "metadata": {
    "collapsed": true
   },
   "outputs": [],
   "source": [
    ">>> numbers = list('0123456789')\n",
    ">>> alphabet = list('aábcčdďeéěfghiíjklmnňoópqrřsštťuúůvwxyýzž')"
   ]
  },
  {
   "cell_type": "code",
   "execution_count": 4,
   "metadata": {
    "collapsed": true
   },
   "outputs": [],
   "source": [
    ">>> x = 0\n",
    "y = 0\n",
    "z = 0\n",
    "for i in ukol_list:\n",
    "    if i in alphabet:\n",
    "        x = x + 1\n",
    "    elif i in numbers:\n",
    "        y = y + 1\n",
    "    else:\n",
    "        z = z + 1"
   ]
  },
  {
   "cell_type": "code",
   "execution_count": 5,
   "metadata": {},
   "outputs": [
    {
     "data": {
      "text/plain": [
       "'Počet písmen je 52, počet čísel je 3 a počet jiných znaků je 19.'"
      ]
     },
     "execution_count": 5,
     "metadata": {},
     "output_type": "execute_result"
    }
   ],
   "source": [
    ">>> 'Počet písmen je {}, počet čísel je {} a počet jiných znaků je {}.'.format(x,y,z)"
   ]
  },
  {
   "cell_type": "code",
   "execution_count": 6,
   "metadata": {},
   "outputs": [
    {
     "name": "stdout",
     "output_type": "stream",
     "text": [
      "Chceš vedět, kolik je kočce v přepočtu na lidské roky? Zadej věk kočky v rocích: 83\n",
      "430\n"
     ]
    }
   ],
   "source": [
    ">>> u = int(input('Chceš vedět, kolik je kočce v přepočtu na lidské roky? Zadej věk kočky v rocích: '))\n",
    "if u == 1:\n",
    "     print(18)\n",
    "elif u == 2:\n",
    "    print(25)\n",
    "else:\n",
    "    u = (u - 2)*5 + 25\n",
    "    print(u)"
   ]
  },
  {
   "cell_type": "code",
   "execution_count": null,
   "metadata": {
    "collapsed": true
   },
   "outputs": [],
   "source": []
  }
 ],
 "metadata": {
  "kernelspec": {
   "display_name": "Python 3",
   "language": "python",
   "name": "python3"
  },
  "language_info": {
   "codemirror_mode": {
    "name": "ipython",
    "version": 3
   },
   "file_extension": ".py",
   "mimetype": "text/x-python",
   "name": "python",
   "nbconvert_exporter": "python",
   "pygments_lexer": "ipython3",
   "version": "3.6.1"
  }
 },
 "nbformat": 4,
 "nbformat_minor": 2
}
